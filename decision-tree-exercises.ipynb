{
 "cells": [
  {
   "cell_type": "markdown",
   "metadata": {},
   "source": [
    "# Exercise 1a\n",
    "\n",
    "![](https://github.com/marbirk/decision-trees/blob/master/DATA.gif?raw=true)"
   ]
  },
  {
   "cell_type": "markdown",
   "metadata": {},
   "source": [
    "---\n",
    "\n",
    "# BuysComputer\n",
    "\n",
    "| Yes   | No    |\n",
    "| ----- | ----- |\n",
    "| 12    | 8     |\n",
    "\n",
    "\n",
    "## Entropy(BuysComputer) \n",
    "\n",
    "= Entropy(8,12) \n",
    "\n",
    "= Entropy(0.4,0.6) \n",
    "\n",
    "= -(0.4 log2 0.4) - (0.6 log2 0.6)\n",
    "\n",
    "= 0.971"
   ]
  },
  {
   "cell_type": "markdown",
   "metadata": {},
   "source": [
    "---\n",
    "\n",
    "# Age\n",
    "\n",
    "|       | Yes   | No    | ∑     |\n",
    "| ----- | ----- | ----- | ----- |\n",
    "| <=30  | 2     | 6     | 8     | \n",
    "| 31-40 | 6     | 0     | 6     |\n",
    "| >40   | 4     | 2     | 6     |\n",
    "|       |       |       | 20    |\n",
    "\n",
    "\n",
    "## Entropy(BuysComputer, Age) \n",
    "\n",
    "= P(<=30) \\* E(2,6) + P(31-40) \\* E(6,0) + P(>40) \\* E(4,2) \n",
    "\n",
    "= (8/20) \\* 0.811 + (6/20) \\* 0.0 + (6/20) \\* 0.923 \n",
    "\n",
    "= 0.601\n",
    "\n",
    "## Gain(BuysComputer, Age) \n",
    "\n",
    "= E(BuysComputer) - E(BuysComputer, Age) \n",
    "\n",
    "= 0.971 - 0.601 \n",
    "\n",
    "= 0.370\n"
   ]
  },
  {
   "cell_type": "markdown",
   "metadata": {},
   "source": [
    "---\n",
    "\n",
    "# Income\n",
    "\n",
    "|       | Yes   | No    | ∑     |\n",
    "| ----- | ----- | ----- | ----- |\n",
    "| High  | 3     | 2     | 5     | \n",
    "| Medium| 5     | 3     | 8     |\n",
    "| Low   | 4     | 3     | 7     |\n",
    "|       |       |       | 20    |\n",
    "\n",
    "\n",
    "## Entropy(BuysComputer, Income) \n",
    "\n",
    "= P(High) \\* E(3,2) + P(Medium) \\* E(5,3) + P(Low) \\* E(4,3) \n",
    "\n",
    "= (5/20) \\* 0.971 + (8/20) \\* 0.954 + (7/20) \\* 0.986 \n",
    "\n",
    "= 0.969\n",
    "\n",
    "## Gain(BuysComputer, Income) \n",
    "\n",
    "= E(BuysComputer) - E(BuysComputer, Income) \n",
    "\n",
    "= 0.971 - 0.969 \n",
    "\n",
    "= 0.002"
   ]
  },
  {
   "cell_type": "markdown",
   "metadata": {},
   "source": [
    "---\n",
    "\n",
    "# Student\n",
    "\n",
    "|           | Yes   | No    | ∑     |\n",
    "| --------- | ----- | ----- | ----- |\n",
    "| isStudent | 8     | 1     | 9     | \n",
    "| notStudent| 4     | 7     | 11    |\n",
    "|           |       |       | 20    |\n",
    "\n",
    "\n",
    "## Entropy(BuysComputer, Student) \n",
    "\n",
    "= P(isStudent) \\* E(8,1) + P(notStudent) \\* E(4,7)\n",
    "\n",
    "= (9/20) \\* 0.513 + (11/20) \\* 0.951\n",
    "\n",
    "= 0.754\n",
    "\n",
    "## Gain(BuysComputer, Student) \n",
    "\n",
    "= E(BuysComputer) - E(BuysComputer, Student) \n",
    "\n",
    "= 0.971 - 0.754 \n",
    "\n",
    "= 0.217"
   ]
  },
  {
   "cell_type": "markdown",
   "metadata": {},
   "source": [
    "---\n",
    "\n",
    "# CreditRating\n",
    "\n",
    "|           | Yes   | No    | ∑     |\n",
    "| --------- | ----- | ----- | ----- |\n",
    "| Fair      | 7     | 3     | 10    | \n",
    "| Excellent | 5     | 5     | 10    |\n",
    "|           |       |       | 20    |\n",
    "\n",
    "\n",
    "## Entropy(BuysComputer, CreditRating) \n",
    "\n",
    "= P(Fair) \\* E(7,3) + P(Excellent) \\* E(5,5)\n",
    "\n",
    "= (10/20) \\* 0.881 + (10/20) \\* 1.0\n",
    "\n",
    "= 0.941\n",
    "\n",
    "## Gain(BuysComputer, CreditRating) \n",
    "\n",
    "= E(BuysComputer) - E(BuysComputer, CreditRating) \n",
    "\n",
    "= 0.971 - 0.941 \n",
    "\n",
    "= 0.03"
   ]
  },
  {
   "cell_type": "markdown",
   "metadata": {},
   "source": [
    "---\n",
    "\n",
    "# Gain Comparison\n",
    "\n",
    "Gain(BuysComputer, Age) = 0.370\n",
    "\n",
    "Gain(BuysComputer, Income) = 0.002\n",
    "\n",
    "Gain(BuysComputer, Student) = 0.217\n",
    "\n",
    "Gain(BuysComputer, CreditRating) = 0.03\n",
    "\n",
    "\n",
    "## => I choose the attribute 'age' as decision node, because it has the largest information gain."
   ]
  },
  {
   "cell_type": "markdown",
   "metadata": {},
   "source": [
    "---\n",
    "\n",
    "|       | Yes   | No    | ∑     |\n",
    "| ----- | ----- | ----- | ----- |\n",
    "| <=30  | 2     | 6     | 8     | \n",
    "| 31-40 | 6     | 0     | 6     |\n",
    "| >40   | 4     | 2     | 6     |\n",
    "|       |       |       | 20    |\n",
    "\n",
    "![](https://github.com/marbirk/decision-trees/blob/master/decision-tree-1.png?raw=true)\n",
    "\n",
    "## => The branch '31-40' has the entropy of 0 and is therefore a leaf node."
   ]
  },
  {
   "cell_type": "markdown",
   "metadata": {},
   "source": [
    "---\n",
    "\n",
    "# Branch '<=30'\n",
    "\n",
    "| Income | Credit_rating | Student | Buys_computer |\n",
    "| ------ | ------------- | ------- | ------------- |\n",
    "| High   | Fair          | No      | No            |\n",
    "| High   | Excellent     | No      | No            |\n",
    "| Medium | Fair          | No      | No            |\n",
    "| Low    | Fair          | Yes     | Yes           |\n",
    "| Medium | Excellent     | Yes     | Yes           |\n",
    "| Medium | Excellent     | No      | No            |\n",
    "| Low    | Fair          | No      | No            |\n",
    "| Low    | Excellent     | No      | No            |\n",
    "\n",
    "|           | Yes   | No    | ∑     |\n",
    "| --------- | ----- | ----- | ----- |\n",
    "| isStudent | 2     | 0     | 2     | \n",
    "| notStudent| 0     | 6     | 6     |\n",
    "|           |       |       | 8     |\n",
    "\n",
    "\n",
    "## Entropy(Age <= 30, Student) \n",
    "\n",
    "= P(isStudent) \\* E(2,0) + P(notStudent) \\* E(0,6)\n",
    "\n",
    "= (2/8) \\* 0.0 + (6/8) \\* 0.0\n",
    "\n",
    "= 0.0\n",
    "\n",
    "## Gain(Age <= 30, Student) \n",
    "\n",
    "= E(BuysComputer) - E(BuysComputer, Student) \n",
    "\n",
    "= 0.971 - 0.0\n",
    "\n",
    "= 0.971\n",
    "\n",
    "\n",
    "![](https://github.com/marbirk/decision-trees/blob/master/decision-tree-2.png?raw=true)"
   ]
  },
  {
   "cell_type": "markdown",
   "metadata": {},
   "source": [
    "---\n",
    "\n",
    "# Exercise 1b"
   ]
  },
  {
   "cell_type": "markdown",
   "metadata": {},
   "source": [
    "## Iris data\n",
    "\n",
    "![](https://github.com/marbirk/decision-trees/blob/master/iris-tree.png?raw=true)"
   ]
  },
  {
   "cell_type": "markdown",
   "metadata": {},
   "source": [
    "## Computer data\n",
    "\n",
    "![](https://github.com/marbirk/decision-trees/blob/master/computer-tree.png?raw=true)"
   ]
  },
  {
   "cell_type": "code",
   "execution_count": null,
   "metadata": {},
   "outputs": [],
   "source": []
  }
 ],
 "metadata": {
  "kernelspec": {
   "display_name": "Python 3",
   "language": "python",
   "name": "python3"
  },
  "language_info": {
   "codemirror_mode": {
    "name": "ipython",
    "version": 3
   },
   "file_extension": ".py",
   "mimetype": "text/x-python",
   "name": "python",
   "nbconvert_exporter": "python",
   "pygments_lexer": "ipython3",
   "version": "3.6.4"
  }
 },
 "nbformat": 4,
 "nbformat_minor": 2
}
